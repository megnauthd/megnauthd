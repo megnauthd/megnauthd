{
  "nbformat": 4,
  "nbformat_minor": 0,
  "metadata": {
    "colab": {
      "provenance": [],
      "authorship_tag": "ABX9TyM+eo4RKrnAOCCGuTXK3dD9",
      "include_colab_link": true
    },
    "kernelspec": {
      "name": "python3",
      "display_name": "Python 3"
    },
    "language_info": {
      "name": "python"
    }
  },
  "cells": [
    {
      "cell_type": "markdown",
      "metadata": {
        "id": "view-in-github",
        "colab_type": "text"
      },
      "source": [
        "<a href=\"https://colab.research.google.com/github/megnauthd/megnauthd/blob/main/RandomPasswordGenerator.ipynb\" target=\"_parent\"><img src=\"https://colab.research.google.com/assets/colab-badge.svg\" alt=\"Open In Colab\"/></a>"
      ]
    },
    {
      "cell_type": "code",
      "execution_count": 1,
      "metadata": {
        "id": "eSUSbDn4C60K",
        "colab": {
          "base_uri": "https://localhost:8080/"
        },
        "outputId": "766b7c70-c422-477b-91ec-f83f047743c5"
      },
      "outputs": [
        {
          "output_type": "stream",
          "name": "stdout",
          "text": [
            "Welcome to the PyPassword Generator!\n",
            "How many letters would you like in your password?\n",
            "2\n",
            "How many symbols would you like?\n",
            "3\n",
            "How many numbers would you like?\n",
            "4\n",
            "Your password is: )GE06!78%\n"
          ]
        }
      ],
      "source": [
        "#Password Generator Project\n",
        "import random\n",
        "letters = ['a', 'b', 'c', 'd', 'e', 'f', 'g', 'h', 'i', 'j', 'k', 'l', 'm', 'n', 'o', 'p', 'q', 'r', 's', 't', 'u', 'v', 'w', 'x', 'y', 'z', 'A', 'B', 'C', 'D', 'E', 'F', 'G', 'H', 'I', 'J', 'K', 'L', 'M', 'N', 'O', 'P', 'Q', 'R', 'S', 'T', 'U', 'V', 'W', 'X', 'Y', 'Z']\n",
        "numbers = ['0', '1', '2', '3', '4', '5', '6', '7', '8', '9']\n",
        "symbols = ['!', '#', '$', '%', '&', '(', ')', '*', '+']\n",
        "\n",
        "print(\"Welcome to the PyPassword Generator!\")\n",
        "nr_letters= int(input(\"How many letters would you like in your password?\\n\"))\n",
        "nr_symbols = int(input(f\"How many symbols would you like?\\n\"))\n",
        "nr_numbers = int(input(f\"How many numbers would you like?\\n\"))\n",
        "\n",
        "password_letters = [random.choice(letters) for letter in range(nr_letters)]\n",
        "password_symbols = [random.choice(symbols) for symbol in range(nr_symbols)]\n",
        "password_numbers = [random.choice(numbers) for number in range(nr_numbers)]\n",
        "\n",
        "password_list = password_letters + password_symbols + password_numbers\n",
        "\n",
        "random.shuffle(password_list)\n",
        "\n",
        "password = ''.join(password_list)\n",
        "\n",
        "print(f\"Your password is: {password}\")\n"
      ]
    }
  ]
}